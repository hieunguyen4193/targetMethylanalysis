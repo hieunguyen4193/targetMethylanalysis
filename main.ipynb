{
 "cells": [
  {
   "cell_type": "code",
   "execution_count": null,
   "metadata": {},
   "outputs": [],
   "source": [
    "import pandas as pd \n",
    "import numpy as np \n",
    "import matplotlib.pyplot as plt \n",
    "import seaborn as sns \n",
    "import os\n",
    "import pathlib\n",
    "import pysam\n",
    "\n",
    "import warnings\n",
    "warnings.filterwarnings(\"ignore\")\n",
    "\n",
    "output_version = \"20250324\""
   ]
  },
  {
   "cell_type": "markdown",
   "metadata": {},
   "source": [
    "# Generate metadata"
   ]
  },
  {
   "cell_type": "code",
   "execution_count": null,
   "metadata": {},
   "outputs": [],
   "source": [
    "maindir = \"/media/hieunguyen/HNHD01/raw_data/targetMethyl_analysis\"\n",
    "outputdir = \"/media/hieunguyen/HNSD_mini/outdir\"\n",
    "\n",
    "Vi_runs = [\"R6801\", \"R6829Vi\", \"R6873\", \"R6914\"]\n",
    "Truong_runs = [\"R6782\", \"R6823\", \"R6829Truong\"]\n",
    "\n",
    "regions = {\n",
    "    \"Vi\": \"Vi_amplicons.hg19.bed\",\n",
    "    \"Truong\": \"Truong_amplicons.hg19.bed\"\n",
    "}\n",
    "\n",
    "regions_hg38 = {\n",
    "    \"Vi\": \"Vi_amplicons.hg38.bed\",\n",
    "    \"Truong\": \"Truong_amplicons.hg38.bed\"\n",
    "}\n",
    "\n",
    "mode = \"directional\"\n",
    "# mode = \"non_directional\"\n",
    "\n",
    "# pic = \"Truong\"\n",
    "pic = \"Vi\"\n",
    "\n",
    "path_to_main_output = os.path.join(outputdir, \"targetMethyl_analysis\", output_version, f\"{pic}_output\", mode)\n",
    "os.system(f\"mkdir -p {path_to_main_output}\")\n",
    "\n",
    "\n",
    "print(f\"All output are saved at {path_to_main_output}\")\n"
   ]
  },
  {
   "cell_type": "code",
   "execution_count": null,
   "metadata": {},
   "outputs": [],
   "source": [
    "all_cov_files = [item for item in pathlib.Path(maindir).glob(\"target_methylation_*/06*/*.cov\")]\n",
    "\n",
    "metadata_dict = {\n",
    "    \"filename\"  : [item.name.split(\".no_deduplicated\")[0] for item in all_cov_files],\n",
    "    \"Run\" : [str(item).split(\"/\")[6].replace(\"_no_dedup\", \"\").replace(\"target_methylation_\", \"\") for item in all_cov_files],\n",
    "    \"path\": [str(item) for item in all_cov_files]\n",
    "}\n",
    "\n",
    "metadata = pd.DataFrame.from_dict(metadata_dict, orient=\"columns\")\n",
    "metadata[\"mode\"] = metadata[\"Run\"].apply(lambda x: \"directional\" if \"_without_non_directional\" in x else \"non_directional\")\n",
    "metadata[\"Run\"] = metadata[\"Run\"].apply(lambda x: x.split(\"_\")[0])\n",
    "metadata[\"PIC\"] = metadata[\"Run\"].apply(lambda x: \"Vi\" if x in Vi_runs else \"Truong\")\n",
    "metadata[\"bam_path\"] = metadata[\"path\"].apply(lambda x: str(x).replace(\"06_methylation_extract\", \"05_sorted_bam\").replace(\".bedGraph.gz.bismark.zero.cov\", \".sorted.bam\"))\n",
    "metadata = metadata[(metadata[\"mode\"] == mode) & (metadata[\"PIC\"] == pic)]\n",
    "\n",
    "##### regiondf for hg19\n",
    "regiondf = pd.read_csv(regions[pic], sep = \"\\t\", header = None)\n",
    "regiondf.columns = [\"chrom\", \"start\", \"end\"]\n",
    "regiondf = regiondf[[\"chrom\", \"start\", \"end\"]]\n",
    "regiondf[\"region_name\"] = regiondf[[\"chrom\", \"start\", \"end\"]].apply(\n",
    "    lambda x: f\"region_{x[0]}_{x[1]}_{x[2]}\", axis = 1\n",
    ")\n",
    "regiondf[\"bam_region\"] = regiondf[[\"chrom\", \"start\", \"end\"]].apply(\n",
    "    lambda x: f\"{x[0].replace('chr', '')}:{x[1]}-{x[2]}\", axis = 1\n",
    ")\n",
    "\n",
    "##### regiondf for hg38\n",
    "regiondf_hg38 = pd.read_csv(regions_hg38[pic], sep = \",\", header = None)\n",
    "regiondf_hg38.columns = [\"chrom\", \"start\", \"end\"]\n",
    "regiondf_hg38 = regiondf_hg38[[\"chrom\", \"start\", \"end\"]]\n",
    "regiondf_hg38[\"region_name\"] = regiondf_hg38[[\"chrom\", \"start\", \"end\"]].apply(\n",
    "    lambda x: f\"region_{x[0]}_{x[1]}_{x[2]}\", axis = 1\n",
    ")\n",
    "regiondf_hg38[\"bam_region\"] = regiondf_hg38[[\"chrom\", \"start\", \"end\"]].apply(\n",
    "    lambda x: f\"{x[0].replace('chr', '')}:{x[1]}-{x[2]}\", axis = 1\n",
    ")\n",
    "\n",
    "metadata"
   ]
  },
  {
   "cell_type": "markdown",
   "metadata": {},
   "source": [
    "# Count on/off target reads"
   ]
  },
  {
   "cell_type": "code",
   "execution_count": null,
   "metadata": {},
   "outputs": [],
   "source": [
    "metadata[\"num_total_reads\"] = metadata[\"bam_path\"].apply(lambda x: int(pysam.samtools.view(\"-c\", x, catch_stdout=True)))\n",
    "\n",
    "def count_read_in_region(bam_path, region, chr_mode = False):\n",
    "    all_reads = []\n",
    "    bamfile = pysam.AlignmentFile(bam_path, \"rb\")\n",
    "    if chr_mode:\n",
    "        region = f\"chr{region}\"\n",
    "    fetched_obj = bamfile.fetch(region = region)\n",
    "    for read in fetched_obj:\n",
    "        all_reads.append(read)\n",
    "    return(len(all_reads))\n",
    "\n",
    "for region_name in regiondf.region_name.unique():\n",
    "    bam_region = regiondf[regiondf[\"region_name\"] == region_name][\"bam_region\"].values[0]\n",
    "    metadata[region_name] = metadata[\"bam_path\"].apply(lambda x: count_read_in_region(x, bam_region))\n",
    "    metadata[f\"pct_{region_name}\"] = metadata[region_name] / metadata[\"num_total_reads\"] * 100\n",
    "    \n",
    "metadata.to_excel(os.path.join(path_to_main_output, f\"{pic}_read_count_in_region.xlsx\"), index = False)\n"
   ]
  },
  {
   "cell_type": "markdown",
   "metadata": {},
   "source": [
    "# Process cov file"
   ]
  },
  {
   "cell_type": "code",
   "execution_count": null,
   "metadata": {},
   "outputs": [],
   "source": [
    "metadata.head()"
   ]
  },
  {
   "cell_type": "code",
   "execution_count": null,
   "metadata": {},
   "outputs": [],
   "source": [
    "regiondf.head()"
   ]
  },
  {
   "cell_type": "code",
   "execution_count": null,
   "metadata": {},
   "outputs": [],
   "source": [
    "all_covdf = dict()\n",
    "for run in metadata.Run.unique():\n",
    "      for filename in metadata[metadata[\"Run\"] == run][\"filename\"].unique():\n",
    "            path_to_save_cov = os.path.join(path_to_main_output, run, filename)\n",
    "            os.system(f\"mkdir -p {path_to_save_cov}\")\n",
    "\n",
    "            covdf = pd.read_csv(metadata[metadata[\"filename\"] == filename][\"path\"].values[0], header = None, sep = \"\\t\")\n",
    "            covdf.columns = [\"chrom\", \"start\", \"end\", \"meth_density\", \"countC\", \"countT\"]\n",
    "            all_covdf[filename] = covdf\n",
    "            for region in regiondf.region_name.unique():\n",
    "                  chrom = int(region.split(\"_\")[1].replace(\"chr\", \"\"))\n",
    "                  start = int(region.split(\"_\")[2])\n",
    "                  end = int(region.split(\"_\")[3])\n",
    "\n",
    "                  covdf[(covdf[\"chrom\"] == chrom) & \n",
    "                        (covdf[\"start\"] >= start) & (covdf[\"start\"] <= end)].to_excel(f\"{path_to_save_cov}/{region}.xlsx\", index = False)\n"
   ]
  },
  {
   "cell_type": "markdown",
   "metadata": {},
   "source": [
    "# Check sample: CONTROL114, R6447"
   ]
  },
  {
   "cell_type": "markdown",
   "metadata": {},
   "source": [
    "## Check number of reads"
   ]
  },
  {
   "cell_type": "code",
   "execution_count": null,
   "metadata": {},
   "outputs": [],
   "source": [
    "control114_cov = \"/media/hieunguyen/HNHD01/raw_data/targetMethyl_analysis/CONTROL114/65-CONTROL114CT836T_M550-M750.cg_cov.bed\"\n",
    "control114_bam = \"/media/hieunguyen/HNHD01/raw_data/targetMethyl_analysis/CONTROL114/65-CONTROL114CT836T_M550-M750.deduplicated.sort.bam\"\n",
    "control114_cov_hg19 = \"/media/hieunguyen/HNHD01/raw_data/targetMethyl_analysis/CONTROL114/65-CONTROL114CT836T_M550-M750.cg_cov.hg19.bed\"\n",
    "\n",
    "\n",
    "path_to_save_cov = os.path.join(path_to_main_output, \"R6447\", \"CONTROL114\")\n",
    "os.system(f\"mkdir -p {path_to_save_cov}\")\n",
    "os.system(f\"mkdir -p {path_to_save_cov}/hg38\")\n",
    "os.system(f\"mkdir -p {path_to_save_cov}/hg19\")\n",
    "\n",
    "covdf = pd.read_csv(control114_cov, header = None, sep = \"\\t\")\n",
    "covdf.columns = [\"chrom\", \"start\", \"end\", \"meth_density\", \"countC\", \"countT\"]\n",
    "\n",
    "covdfhg19 = pd.read_csv(control114_cov_hg19, header = None, sep = \"\\t\")\n",
    "covdfhg19.columns = [\"chrom\", \"start\", \"end\", \"meth_density\", \"countC\", \"countT\"]\n",
    "covdfhg19[\"countC\"] = covdf[\"countC\"].values\n",
    "covdfhg19[\"countT\"] = covdf[\"countT\"].values\n",
    "\n",
    "for region in regiondf_hg38.region_name.unique():\n",
    "        chrom = region.split(\"_\")[1]\n",
    "        start = int(region.split(\"_\")[2])\n",
    "        end = int(region.split(\"_\")[3])\n",
    "\n",
    "        covdf[(covdf[\"chrom\"] == chrom) & \n",
    "            (covdf[\"start\"] >= start) & (covdf[\"start\"] <= end)].to_excel(f\"{path_to_save_cov}/hg38/{region}.xlsx\", index = False)\n",
    "        \n",
    "        print(covdf[(covdf[\"chrom\"] == chrom) & \n",
    "            (covdf[\"start\"] >= start) & (covdf[\"start\"] <= end)].shape)\n",
    "        \n",
    "for region in regiondf.region_name.unique():\n",
    "        chrom = region.split(\"_\")[1]\n",
    "        start = int(region.split(\"_\")[2])\n",
    "        end = int(region.split(\"_\")[3])\n",
    "\n",
    "        covdfhg19[(covdfhg19[\"chrom\"] == chrom) & \n",
    "            (covdfhg19[\"start\"] >= start) & (covdfhg19[\"start\"] <= end)].to_excel(f\"{path_to_save_cov}/hg19/{region}.xlsx\", index = False)\n",
    "        \n",
    "        print(covdfhg19[(covdfhg19[\"chrom\"] == chrom) & \n",
    "            (covdfhg19[\"start\"] >= start) & (covdfhg19[\"start\"] <= end)].shape)\n",
    "        \n",
    "all_covdf[\"CONTROL114\"] = covdfhg19"
   ]
  },
  {
   "cell_type": "code",
   "execution_count": null,
   "metadata": {},
   "outputs": [],
   "source": [
    "metadata_CONTROL114 = pd.DataFrame.from_dict({\n",
    "    \"filename\": [\"CONTROL114\"],\n",
    "    \"Run\": [\"R6447\"],\n",
    "    \"bam_path\": [control114_bam],\n",
    "    \"path\": [control114_cov]\n",
    "})\n",
    "\n",
    "metadata_CONTROL114[\"num_total_reads\"] = metadata_CONTROL114[\"bam_path\"].apply(lambda x: int(pysam.samtools.view(\"-c\", x, catch_stdout=True)))\n",
    "\n",
    "for region_name in regiondf_hg38.region_name.unique():\n",
    "    bam_region = regiondf_hg38[regiondf_hg38[\"region_name\"] == region_name][\"bam_region\"].values[0]\n",
    "    metadata_CONTROL114[region_name] = metadata_CONTROL114[\"bam_path\"].apply(lambda x: count_read_in_region(x, bam_region, chr_mode = True))\n",
    "    metadata_CONTROL114[f\"pct_{region_name}\"] = metadata_CONTROL114[region_name] / metadata_CONTROL114[\"num_total_reads\"] * 100\n",
    "\n",
    "metadata_CONTROL114.to_excel(os.path.join(path_to_main_output, f\"CONTROL114_read_count_in_region.xlsx\"), index = False)"
   ]
  },
  {
   "cell_type": "markdown",
   "metadata": {},
   "source": [
    "## Compare methylation density between 2 samples"
   ]
  },
  {
   "cell_type": "code",
   "execution_count": null,
   "metadata": {},
   "outputs": [],
   "source": [
    "mean_methyldf = pd.DataFrame(data = regiondf.region_name.unique(), columns = [\"region\"])\n",
    "\n",
    "def get_mean_methyl_in_region(region, filename):\n",
    "\n",
    "    if filename == \"CONTROL114\":\n",
    "        df = pd.read_excel(f\"{os.path.join(path_to_main_output, 'R6447', 'CONTROL114')}/hg19/{region}.xlsx\")\n",
    "        run = \"R6447\"\n",
    "    else:\n",
    "        run = metadata[metadata[\"filename\"] == filename][\"Run\"].values[0]\n",
    "        df = pd.read_excel(f\"{os.path.join(path_to_main_output, run, filename)}/{region}.xlsx\")\n",
    "    if df.shape[0] == 0:\n",
    "        return \"no data available\"\n",
    "    else:\n",
    "        mean_methyl = df.meth_density.mean()\n",
    "        return mean_methyl\n",
    "\n",
    "for filename in all_covdf.keys():\n",
    "    mean_methyldf[filename] = mean_methyldf[\"region\"].apply(lambda x: get_mean_methyl_in_region(x, filename))\n",
    "\n",
    "mean_methyldf.to_excel(os.path.join(path_to_main_output, f\"{pic}_mean_methyl_in_region_compare_CONTROL114.xlsx\"), index = False)\n"
   ]
  },
  {
   "cell_type": "code",
   "execution_count": null,
   "metadata": {},
   "outputs": [],
   "source": [
    "metadata"
   ]
  }
 ],
 "metadata": {
  "kernelspec": {
   "display_name": "pytorch",
   "language": "python",
   "name": "python3"
  },
  "language_info": {
   "codemirror_mode": {
    "name": "ipython",
    "version": 3
   },
   "file_extension": ".py",
   "mimetype": "text/x-python",
   "name": "python",
   "nbconvert_exporter": "python",
   "pygments_lexer": "ipython3",
   "version": "3.9.19"
  }
 },
 "nbformat": 4,
 "nbformat_minor": 2
}
