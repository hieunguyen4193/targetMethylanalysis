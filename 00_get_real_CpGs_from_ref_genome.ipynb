{
 "cells": [
  {
   "cell_type": "code",
   "execution_count": 1,
   "metadata": {},
   "outputs": [
    {
     "name": "stdout",
     "output_type": "stream",
     "text": [
      "All output are saved at /media/hieunguyen/HNSD_mini/outdir/targetMethyl_analysis/20250327/Vi_output/directional\n"
     ]
    }
   ],
   "source": [
    "import pandas as pd \n",
    "import numpy as np \n",
    "import matplotlib.pyplot as plt \n",
    "import seaborn as sns \n",
    "import os\n",
    "import pathlib\n",
    "import pysam\n",
    "import pyfaidx\n",
    "import re\n",
    "import warnings\n",
    "warnings.filterwarnings(\"ignore\")\n",
    "\n",
    "output_version = \"20250327\"\n",
    "\n",
    "path_to_all_fa = \"/media/hieunguyen/GSHD_HN01/storage/resources/hg19\"\n",
    "\n",
    "maindir = \"/media/hieunguyen/HNHD01/raw_data/targetMethyl_analysis\"\n",
    "outputdir = \"/media/hieunguyen/HNSD_mini/outdir\"\n",
    "\n",
    "Vi_runs = [\"R6801\", \"R6829Vi\", \"R6873\", \"R6914\"]\n",
    "Truong_runs = [\"R6782\", \"R6823\", \"R6829Truong\"]\n",
    "\n",
    "regions = {\n",
    "    \"Vi\": \"Vi_amplicons.hg19.bed\",\n",
    "    \"Truong\": \"Truong_amplicons.hg19.bed\"\n",
    "}\n",
    "\n",
    "regions_hg38 = {\n",
    "    \"Vi\": \"Vi_amplicons.hg38.bed\",\n",
    "    \"Truong\": \"Truong_amplicons.hg38.bed\"\n",
    "}\n",
    "\n",
    "mode = \"directional\"\n",
    "# mode = \"non_directional\"\n",
    "\n",
    "# pic = \"Truong\"\n",
    "pic = \"Vi\"\n",
    "\n",
    "path_to_main_output = os.path.join(outputdir, \"targetMethyl_analysis\", output_version, f\"{pic}_output\", mode)\n",
    "os.system(f\"mkdir -p {path_to_main_output}\")\n",
    "\n",
    "path_to_00_output = os.path.join(path_to_main_output, \"00_output\")\n",
    "os.system(f\"mkdir -p {path_to_00_output}\")\n",
    "\n",
    "print(f\"All output are saved at {path_to_main_output}\")\n",
    "\n",
    "##### regiondf for hg19\n",
    "regiondf = pd.read_csv(regions[pic], sep = \"\\t\", header = None)\n",
    "regiondf.columns = [\"chrom\", \"start\", \"end\"]\n",
    "regiondf = regiondf[[\"chrom\", \"start\", \"end\"]]\n",
    "regiondf[\"region_name\"] = regiondf[[\"chrom\", \"start\", \"end\"]].apply(\n",
    "    lambda x: f\"region_{x[0]}_{x[1]}_{x[2]}\", axis = 1\n",
    ")\n",
    "regiondf[\"bam_region\"] = regiondf[[\"chrom\", \"start\", \"end\"]].apply(\n",
    "    lambda x: f\"{x[0].replace('chr', '')}:{x[1]}-{x[2]}\", axis = 1\n",
    ")\n",
    "\n",
    "cpgdf = pd.DataFrame()\n",
    "for region in regiondf.region_name.unique():\n",
    "    chrom = region.split(\"_\")[1].replace(\"chr\", \"\")\n",
    "    start = int(region.split(\"_\")[2])\n",
    "    end = int(region.split(\"_\")[3])\n",
    "    refseq = pyfaidx.Fasta(os.path.join(path_to_all_fa, \"chr{}.fa\".format(chrom)))\n",
    "    refseq_at_region = str.upper(refseq.get_seq(name = \"chr{}\".format(chrom), start = start, end = end).seq)\n",
    "\n",
    "    all_cpg_in_cluster = [m.start(0) for m in re.finditer(\"CG\", refseq_at_region)]\n",
    "    cpg_coords = [f\"chr{chrom}:{item + start - 1}-{item + start}\" for item in all_cpg_in_cluster]\n",
    "\n",
    "    tmp_cpgdf = pd.DataFrame(data = cpg_coords, columns = [\"CpG\"])\n",
    "    tmp_cpgdf[\"region\"] = region\n",
    "    cpgdf = pd.concat([cpgdf, tmp_cpgdf], axis = 0)\n",
    "\n",
    "cpgdf = cpgdf[[\"region\", \"CpG\"]]\n",
    "\n",
    "cpgdf.to_excel(os.path.join(path_to_00_output, f\"{pic}_panel_correct_cpgdf.xlsx\"), index = False)"
   ]
  }
 ],
 "metadata": {
  "kernelspec": {
   "display_name": "pytorch",
   "language": "python",
   "name": "python3"
  },
  "language_info": {
   "codemirror_mode": {
    "name": "ipython",
    "version": 3
   },
   "file_extension": ".py",
   "mimetype": "text/x-python",
   "name": "python",
   "nbconvert_exporter": "python",
   "pygments_lexer": "ipython3",
   "version": "3.9.19"
  }
 },
 "nbformat": 4,
 "nbformat_minor": 2
}
